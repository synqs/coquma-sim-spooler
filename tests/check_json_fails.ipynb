{
 "cells": [
  {
   "cell_type": "markdown",
   "id": "b3571ebe-3649-4865-8973-4aaa6b65c51e",
   "metadata": {},
   "source": [
    "A notebook to understand the failing tests"
   ]
  },
  {
   "cell_type": "code",
   "execution_count": 5,
   "id": "744684f3-2f0c-41d5-9d21-4ca0ccd09f0a",
   "metadata": {},
   "outputs": [],
   "source": [
    "import sys, os\n",
    "\n",
    "sys.path.append(os.path.join(\"..\", \"spooler_files\"))\n",
    "\n",
    "from spooler_fermions import *"
   ]
  },
  {
   "cell_type": "markdown",
   "id": "db82eea6-d1b7-4d54-99dc-d71b4b48dd37",
   "metadata": {},
   "source": [
    "Import the functions that are in the tests folder..."
   ]
  },
  {
   "cell_type": "markdown",
   "id": "c0f8c3cd-c4a8-42e4-b5b2-cbc96a0a34f5",
   "metadata": {},
   "source": [
    "let us dig deeper into what is going wrong"
   ]
  },
  {
   "cell_type": "code",
   "execution_count": 36,
   "id": "12e8a433-af81-470d-8e55-6def6470da15",
   "metadata": {},
   "outputs": [],
   "source": [
    "json_dict = {\n",
    "        \"experiment_0\": {\n",
    "            \"instructions\": [\n",
    "                [\"load\", [7], []],\n",
    "                [\"load\", [2], []],\n",
    "                [\"measure\", [2], []],\n",
    "                [\"measure\", [6], []],\n",
    "                [\"measure\", [7], []],\n",
    "            ],\n",
    "            \"num_wires\": 8,\n",
    "            \"shots\": 4,\n",
    "        },\n",
    "    }\n",
    "\n",
    "result_dict = {\n",
    "        \"backend_name\": \"synqs_fermionic_tweezer_simulator\",\n",
    "        \"backend_version\": \"0.0.1\",\n",
    "        \"job_id\": job_id,\n",
    "        \"qobj_id\": None,\n",
    "        \"success\": True,\n",
    "        \"status\": \"finished\",\n",
    "        \"header\": {},\n",
    "        \"results\": [],\n",
    "    }"
   ]
  },
  {
   "cell_type": "markdown",
   "id": "f04f37fc-ed6b-4b1e-bb0c-4743473833bd",
   "metadata": {},
   "source": [
    "We can basically narrow down the problem to the load gate ..."
   ]
  },
  {
   "cell_type": "code",
   "execution_count": 47,
   "id": "275d4f60-f789-4e34-b6e9-c388d9c551dd",
   "metadata": {},
   "outputs": [],
   "source": [
    "def check_json_dict(json_dict):\n",
    "    \"\"\"\n",
    "    Check if the json file has the appropiate syntax.\n",
    "\n",
    "    Args:\n",
    "        json_dict (dict): the dictonary that we will test.\n",
    "\n",
    "    Returns:\n",
    "        bool: is the expression having the appropiate syntax ?\n",
    "    \"\"\"\n",
    "    ins_schema_dict = {\n",
    "        \"load\": barrier_measure_schema,\n",
    "        \"barrier\": barrier_measure_schema,\n",
    "        \"hop\": hop_schema,\n",
    "        \"int\": int_schema,\n",
    "        \"phase\": int_schema,\n",
    "        \"measure\": barrier_measure_schema,\n",
    "    }\n",
    "    max_exps = 50\n",
    "    for e in json_dict:\n",
    "        err_code = \"Wrong experiment name or too many experiments\"\n",
    "        try:\n",
    "            exp_ok = (\n",
    "                e.startswith(\"experiment_\")\n",
    "                and e[11:].isdigit()\n",
    "                and (int(e[11:]) <= max_exps)\n",
    "            )\n",
    "        except:\n",
    "            exp_ok = False\n",
    "            break\n",
    "        if not exp_ok:\n",
    "            break\n",
    "        err_code, exp_ok = check_with_schema(json_dict[e], exper_schema)\n",
    "        if not exp_ok:\n",
    "            break\n",
    "        ins_list = json_dict[e][\"instructions\"]\n",
    "        for ins in ins_list:\n",
    "            try:\n",
    "                err_code, exp_ok = check_with_schema(ins, ins_schema_dict[ins[0]])\n",
    "                print(ins)\n",
    "                print(err_code)\n",
    "                \n",
    "            except Exception as e:\n",
    "                err_code = \"Error in instruction \" + str(e)\n",
    "                exp_ok = False\n",
    "            if not exp_ok:\n",
    "                break\n",
    "        if not exp_ok:\n",
    "            break\n",
    "    print('Done')\n",
    "    print(exp_ok)\n",
    "    return err_code.replace(\"\\n\", \"..\"), exp_ok"
   ]
  },
  {
   "cell_type": "code",
   "execution_count": 48,
   "id": "896d2547-499f-425a-996e-f071f90c2517",
   "metadata": {},
   "outputs": [
    {
     "name": "stdout",
     "output_type": "stream",
     "text": [
      "['load', [7], []]\n",
      "[{'type': 'string', 'enum': ['load', 'measure', 'barrier']}, {'type': 'array', 'maxItems': 2, 'items': [{'type': 'number', 'minimum': 0, 'maximum': 7}]}, {'type': 'array', 'maxItems': 0}] is not of type 'object', 'boolean'\n",
      "\n",
      "Failed validating 'type' in metaschema['allOf'][1]['properties']['items']['$dynamicRef']['allOf'][0]:\n",
      "    {'$defs': {'anchorString': {'pattern': '^[A-Za-z_][-A-Za-z0-9._]*$',\n",
      "                                'type': 'string'},\n",
      "               'uriReferenceString': {'format': 'uri-reference',\n",
      "                                      'type': 'string'},\n",
      "               'uriString': {'format': 'uri', 'type': 'string'}},\n",
      "     '$dynamicAnchor': 'meta',\n",
      "     '$id': 'https://json-schema.org/draft/2020-12/meta/core',\n",
      "     '$schema': 'https://json-schema.org/draft/2020-12/schema',\n",
      "     '$vocabulary': {'https://json-schema.org/draft/2020-12/vocab/core': True},\n",
      "     'properties': {'$anchor': {'$ref': '#/$defs/anchorString'},\n",
      "                    '$comment': {'type': 'string'},\n",
      "                    '$defs': {'additionalProperties': {'$dynamicRef': '#meta'},\n",
      "                              'type': 'object'},\n",
      "                    '$dynamicAnchor': {'$ref': '#/$defs/anchorString'},\n",
      "                    '$dynamicRef': {'$ref': '#/$defs/uriReferenceString'},\n",
      "                    '$id': {'$comment': 'Non-empty fragments not allowed.',\n",
      "                            '$ref': '#/$defs/uriReferenceString',\n",
      "                            'pattern': '^[^#]*#?$'},\n",
      "                    '$ref': {'$ref': '#/$defs/uriReferenceString'},\n",
      "                    '$schema': {'$ref': '#/$defs/uriString'},\n",
      "                    '$vocabulary': {'additionalProperties': {'type': 'boolean'},\n",
      "                                    'propertyNames': {'$ref': '#/$defs/uriString'},\n",
      "                                    'type': 'object'}},\n",
      "     'title': 'Core vocabulary meta-schema',\n",
      "     'type': ['object', 'boolean']}\n",
      "\n",
      "On schema['items']:\n",
      "    [{'enum': ['load', 'measure', 'barrier'], 'type': 'string'},\n",
      "     {'items': [{'maximum': 7, 'minimum': 0, 'type': 'number'}],\n",
      "      'maxItems': 2,\n",
      "      'type': 'array'},\n",
      "     {'maxItems': 0, 'type': 'array'}]\n",
      "Done\n",
      "False\n"
     ]
    }
   ],
   "source": [
    "err_msg, json_is_fine = check_json_dict(json_dict)"
   ]
  },
  {
   "cell_type": "code",
   "execution_count": 51,
   "id": "6449d8cc-2afe-42cc-831c-a05e3cf3db49",
   "metadata": {},
   "outputs": [],
   "source": [
    "from pprint import pprint"
   ]
  },
  {
   "cell_type": "code",
   "execution_count": 52,
   "id": "05a77a32-a303-4ba2-85fd-026d4883a335",
   "metadata": {},
   "outputs": [
    {
     "name": "stdout",
     "output_type": "stream",
     "text": [
      "{'items': [{'enum': ['load', 'measure', 'barrier'], 'type': 'string'},\n",
      "           {'items': [{'maximum': 7, 'minimum': 0, 'type': 'number'}],\n",
      "            'maxItems': 2,\n",
      "            'type': 'array'},\n",
      "           {'maxItems': 0, 'type': 'array'}],\n",
      " 'maxItems': 3,\n",
      " 'minItems': 3,\n",
      " 'type': 'array'}\n"
     ]
    }
   ],
   "source": [
    "pprint(barrier_measure_schema)"
   ]
  },
  {
   "cell_type": "code",
   "execution_count": null,
   "id": "67be3656-8175-42db-859e-2d5af0cc7a53",
   "metadata": {},
   "outputs": [],
   "source": []
  }
 ],
 "metadata": {
  "kernelspec": {
   "display_name": "Python 3 (ipykernel)",
   "language": "python",
   "name": "python3"
  },
  "language_info": {
   "codemirror_mode": {
    "name": "ipython",
    "version": 3
   },
   "file_extension": ".py",
   "mimetype": "text/x-python",
   "name": "python",
   "nbconvert_exporter": "python",
   "pygments_lexer": "ipython3",
   "version": "3.9.7"
  }
 },
 "nbformat": 4,
 "nbformat_minor": 5
}
